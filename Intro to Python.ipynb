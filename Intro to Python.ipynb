{
 "cells": [
  {
   "cell_type": "markdown",
   "metadata": {},
   "source": [
    "# Introduction to Jupyter Notebook\n",
    "\n",
    "We can write Markdown or Python code in our cells. "
   ]
  },
  {
   "cell_type": "markdown",
   "metadata": {},
   "source": [
    "# Standard Data Types\n",
    "\n",
    "5 Standard Data Types:\n",
    "* Number\n",
    "* String\n",
    "* List \n",
    "* Tuple\n",
    "* Dictionary "
   ]
  },
  {
   "cell_type": "markdown",
   "metadata": {},
   "source": [
    "## Python 'Numbers'\n",
    "\n",
    "* Number Data Types store Numerical Values.\n",
    "* Number Objects are created when you Assign a Value to them.\n",
    "* Python Supports 3 Different Number Data types:\n",
    "   1. int\n",
    "   2. float\n",
    "   3. complex\n",
    "  \n",
    "**NOTE:** All Integers is Python3 are reprented as long Integers. Hence, There is _NO_ Separate Number Type as long."
   ]
  },
  {
   "cell_type": "code",
   "execution_count": 1,
   "metadata": {},
   "outputs": [
    {
     "name": "stdout",
     "output_type": "stream",
     "text": [
      "10\n",
      "12\n"
     ]
    }
   ],
   "source": [
    "# Print Function - print()\n",
    "# Press 'CTRL' + 'ENTER' to Execute the Code\n",
    "# Press 'ALT' + 'ENTER' to Execute the Code & Insert a New Cell Thereafter\n",
    "\n",
    "a = 10\n",
    "print(a)\n",
    "print(12)"
   ]
  },
  {
   "cell_type": "code",
   "execution_count": 2,
   "metadata": {},
   "outputs": [
    {
     "name": "stdout",
     "output_type": "stream",
     "text": [
      "10 12\n"
     ]
    }
   ],
   "source": [
    "# By Default, Print Function - print(), print in New Line (Next Line)\n",
    "# If You Want to Print in Same Line, Then Follow the Following Syntax\n",
    "\n",
    "a = 10\n",
    "print(a, end = \" \")\n",
    "print(12)"
   ]
  },
  {
   "cell_type": "code",
   "execution_count": 3,
   "metadata": {},
   "outputs": [
    {
     "data": {
      "text/plain": [
       "10"
      ]
     },
     "execution_count": 3,
     "metadata": {},
     "output_type": "execute_result"
    }
   ],
   "source": [
    "# Last Line, By Default, is Treated as Output\n",
    "# To Print values of your choice, use print() function\n",
    "\n",
    "a = 10\n",
    "b = 20\n",
    "a"
   ]
  },
  {
   "cell_type": "code",
   "execution_count": 15,
   "metadata": {},
   "outputs": [
    {
     "name": "stdout",
     "output_type": "stream",
     "text": [
      "<class 'int'>\n",
      "<class 'float'>\n",
      "<class 'complex'>\n"
     ]
    }
   ],
   "source": [
    "# Variable & Type of Numbers\n",
    "# There is No Need to Type 'int', 'float', 'complex' to Declare a Variable\n",
    "# type() function is used to determine the type of data \n",
    "\n",
    "a = 10\n",
    "print(type(a))\n",
    "b = 12.3\n",
    "print(type(b))\n",
    "c = 2 + 3j\n",
    "print(type(c))"
   ]
  },
  {
   "cell_type": "code",
   "execution_count": 16,
   "metadata": {},
   "outputs": [],
   "source": [
    "# 'Order of Cells' does not determine the Output\n",
    "# 'Execution of Cells' determine the Output\n",
    "#  So, Latest Execution of Cell is Shown as Output"
   ]
  },
  {
   "cell_type": "code",
   "execution_count": 17,
   "metadata": {},
   "outputs": [
    {
     "name": "stdout",
     "output_type": "stream",
     "text": [
      "32\n",
      "-8\n",
      "240\n",
      "0.6\n",
      "0\n",
      "1728\n",
      "12\n"
     ]
    }
   ],
   "source": [
    "# Operators\n",
    "\n",
    "a = 12\n",
    "b = 20\n",
    "print(a + b)    # Addition\n",
    "print(a - b)    # Subtraction\n",
    "print(a * b)    # Multiplication\n",
    "print(a / b)    # Division [int/int = float] -> Normal in Python\n",
    "print(a // b)   # Floor Division [int/int = int] -> Normal in C++/Java\n",
    "print(a ** 3)   # Power, Here a^3\n",
    "print(a % b)    # Modulus Function"
   ]
  },
  {
   "cell_type": "markdown",
   "metadata": {},
   "source": [
    "## Python 'Strings'\n",
    "\n",
    "* Strings in python are identified as a contiguous set of charaters represented in the Quotation Marks.\n",
    "* Python treats single quotes ' ' the same as double quotes \" \".\n",
    "* Plus (+) → String Concatenation Operator.\n",
    "* Asterisk (*) → Repetition Operator.\n",
    "* Python does not have char type → **Characters are Treated as Strings.**\n",
    "* Python Strings are **'Immutable'** i.e. They can't be Changed/Modified."
   ]
  },
  {
   "cell_type": "code",
   "execution_count": 1,
   "metadata": {},
   "outputs": [
    {
     "name": "stdout",
     "output_type": "stream",
     "text": [
      "This is Saurabh Malik\n"
     ]
    }
   ],
   "source": [
    "# Creating a String\n",
    "\n",
    "a = 'This is Saurabh Malik'\n",
    "print(a)"
   ]
  },
  {
   "cell_type": "code",
   "execution_count": 4,
   "metadata": {},
   "outputs": [
    {
     "name": "stdout",
     "output_type": "stream",
     "text": [
      "Saurabh Malik\n",
      "13\n",
      "<class 'str'>\n",
      "S\n",
      "Amitabh Bachchan\n"
     ]
    }
   ],
   "source": [
    "# Typical String Properties\n",
    "\n",
    "a = \"Saurabh Malik\"\n",
    "print(a)\n",
    "print(len(a))    # Length of String\n",
    "print(type(a))   # Data Type \n",
    "print(a[0])      # Accessing a Character in a String\n",
    "\n",
    "# Strings are 'Immutable' i.e. can't be changed, they can only be read or accessed\n",
    "# a[0] = 'J'     -- Invalid\n",
    "# We can point/reference from a string to different string i.e You Can Re-Assign/Update It\n",
    "a = 'Amitabh Bachchan'  # Valid\n",
    "print(a)"
   ]
  },
  {
   "cell_type": "code",
   "execution_count": 7,
   "metadata": {},
   "outputs": [
    {
     "name": "stdout",
     "output_type": "stream",
     "text": [
      "SaurabhMalik\n",
      "SaurabhSaurabhSaurabh\n"
     ]
    }
   ],
   "source": [
    "# Properties\n",
    "\n",
    "a = 'Saurabh'\n",
    "b = 'Malik'\n",
    "\n",
    "c = a + b    # String Concatenation  \n",
    "d = a * 3    # String Repetition\n",
    "print(c)    \n",
    "print(d)    \n",
    "\n",
    "# e = a + 2  -- Invalid (Str + Int is 'Invalid')"
   ]
  },
  {
   "cell_type": "code",
   "execution_count": 9,
   "metadata": {},
   "outputs": [
    {
     "name": "stdout",
     "output_type": "stream",
     "text": [
      "SAURABH\n",
      "saurabh\n",
      "    Malik    \n",
      "Malik\n",
      "True\n",
      "False\n"
     ]
    }
   ],
   "source": [
    "# Few String Functions\n",
    "\n",
    "a = 'Saurabh'\n",
    "b = '    Malik    '\n",
    "\n",
    "print(a.upper())    # Convert to Uppercase String  --> string 'a' is not changed\n",
    "print(a.lower())    # Convert to Lowercase String\n",
    "\n",
    "print(b)\n",
    "print(b.strip())    # Removes All White Spaces \n",
    "\n",
    "print(a.isalpha())  # If Only Alphabets in String, then 'True' otherwise 'False'\n",
    "print(b.isalpha())  # False -- Contains Spaces"
   ]
  },
  {
   "cell_type": "code",
   "execution_count": 12,
   "metadata": {},
   "outputs": [
    {
     "name": "stdout",
     "output_type": "stream",
     "text": [
      "u\n",
      "h\n",
      "s\n"
     ]
    }
   ],
   "source": [
    "# String Negative Indexing\n",
    "# String Indexing can be from '0 to n-1' (Normal Indexing) OR '-n to -1' (Negative Indexing)\n",
    "\n",
    "a = \"saurabh\"\n",
    "print(a[2])\n",
    "print(a[-1])\n",
    "print(a[-7])"
   ]
  },
  {
   "cell_type": "code",
   "execution_count": 33,
   "metadata": {},
   "outputs": [
    {
     "name": "stdout",
     "output_type": "stream",
     "text": [
      "mal\n",
      "li\n",
      "alik\n",
      "mali\n",
      "malik\n"
     ]
    }
   ],
   "source": [
    "# String Slicing\n",
    "# It is used to get a 'Sub-string from a String'\n",
    "# Syntax --> a[start index : end index] \n",
    "# Basically It is a[:) i.e goes from start index to end index-1\n",
    "\n",
    "a = \"malik\"\n",
    "\n",
    "print(a[0 : 3])\n",
    "print(a[-3 : -1])    # Basically, It gives characters from Index-3 to -2 \n",
    "\n",
    "print(a[1:])       # Given Start Index Only -> 1 to end\n",
    "print(a[:4])     # Given End Index Only -> 0 to 3\n",
    "print(a[:])        # No StartIndex & No End Index Given -> 0 to 5"
   ]
  },
  {
   "cell_type": "markdown",
   "metadata": {},
   "source": [
    "**User Input**"
   ]
  },
  {
   "cell_type": "code",
   "execution_count": 41,
   "metadata": {},
   "outputs": [
    {
     "name": "stdout",
     "output_type": "stream",
     "text": [
      "12345\n",
      "12345\n",
      "<class 'str'>\n",
      "12345\n",
      "12345\n",
      "<class 'int'>\n"
     ]
    }
   ],
   "source": [
    "# User Input\n",
    "\n",
    "a = input()     # input() function always returns a 'String'\n",
    "print(a)\n",
    "print(type(a))\n",
    "\n",
    "# For Integer Type Input, Follow the Following Index\n",
    "b = int(input())\n",
    "print(b)\n",
    "print(type(b))"
   ]
  },
  {
   "cell_type": "markdown",
   "metadata": {},
   "source": [
    "## Python 'Tuples'\n",
    "\n",
    "* Tuple is a sequence data type and consists of a number of values separated by commas.\n",
    "* Tuples are enclosed within **parentheses ()**.\n",
    "* A Tuple can have **Different Data Type Variables Together**.\n",
    "* **Accessing Value, Slicing & Indexing** in a **Tuple** is **Same** as that in a **String**.\n",
    "* Tuples like String are **Immutable**.\n"
   ]
  },
  {
   "cell_type": "code",
   "execution_count": 42,
   "metadata": {},
   "outputs": [
    {
     "name": "stdout",
     "output_type": "stream",
     "text": [
      "(1, 2, 3)\n",
      "<class 'tuple'>\n"
     ]
    }
   ],
   "source": [
    "# Creating a Tuple\n",
    "\n",
    "t = (1, 2, 3)\n",
    "print(t)\n",
    "print(type(t))"
   ]
  },
  {
   "cell_type": "code",
   "execution_count": 43,
   "metadata": {},
   "outputs": [
    {
     "name": "stdout",
     "output_type": "stream",
     "text": [
      "3.4\n",
      "(1, 'Saurabh', 2)\n",
      "(2, 'Malik')\n"
     ]
    }
   ],
   "source": [
    "# Accessing Value, Slicing & Indexing\n",
    "\n",
    "t = (1, 'Saurabh', 2, 'Malik', 3.4)\n",
    "print(t[4])      # Accessing Value in a Tuple\n",
    "print(t[0:3])    # Slicing - Positive Indexing  \n",
    "print(t[-3:-1])  # Slicing - Negative Indexing"
   ]
  },
  {
   "cell_type": "code",
   "execution_count": 44,
   "metadata": {},
   "outputs": [
    {
     "name": "stdout",
     "output_type": "stream",
     "text": [
      "(1, 'Saurabh', 2, 'Malik')\n",
      "(1, 'Saurabh', 1, 'Saurabh', 1, 'Saurabh')\n",
      "True\n",
      "False\n"
     ]
    }
   ],
   "source": [
    "# Operators on Tuples\n",
    "\n",
    "t = (1, 'Saurabh')\n",
    "k = (2, 'Malik')\n",
    "\n",
    "print(t+k)    # Tuple Concatenation \n",
    "# print(t*k)   -- Invalid\n",
    "print(t*3)    # Copy Tuple 't' 3 times\n",
    "print('Saurabh' in t)   # Is 'Saurabh' in Tuple 't' or not  --> True or False\n",
    "print(1 in k)"
   ]
  },
  {
   "cell_type": "markdown",
   "metadata": {},
   "source": [
    "## 'Boolean' Data Type and 'Operators'\n",
    "\n",
    "* Boolean Data Type : True, False\n",
    "* Relational Operators : >, <, >=, <=, ==, !=\n",
    "* Logical Operators : and, or"
   ]
  },
  {
   "cell_type": "code",
   "execution_count": 3,
   "metadata": {},
   "outputs": [
    {
     "name": "stdout",
     "output_type": "stream",
     "text": [
      "<class 'bool'>\n",
      "<class 'bool'>\n"
     ]
    }
   ],
   "source": [
    "# Boolean Data Type\n",
    "\n",
    "a = True\n",
    "b = False \n",
    "\n",
    "print(type(a))\n",
    "print(type(b))"
   ]
  },
  {
   "cell_type": "code",
   "execution_count": 4,
   "metadata": {},
   "outputs": [
    {
     "name": "stdout",
     "output_type": "stream",
     "text": [
      "False\n",
      "True\n",
      "False\n",
      "True\n",
      "False\n",
      "True\n"
     ]
    }
   ],
   "source": [
    "# Relational Operators\n",
    "\n",
    "x = 10\n",
    "y = 20\n",
    "\n",
    "print(x > y)\n",
    "print(x < y)\n",
    "print(x >= y)\n",
    "print(x <= y)\n",
    "print(x == y)\n",
    "print(x != y)"
   ]
  },
  {
   "cell_type": "code",
   "execution_count": 7,
   "metadata": {},
   "outputs": [
    {
     "name": "stdout",
     "output_type": "stream",
     "text": [
      "True\n",
      "False\n"
     ]
    }
   ],
   "source": [
    "# Logical Operators\n",
    "\n",
    "x = 10\n",
    "y = 20\n",
    "z = 30\n",
    "\n",
    "print(x < y and x < z)\n",
    "print(x > y or x > z)"
   ]
  },
  {
   "cell_type": "markdown",
   "metadata": {},
   "source": [
    "## Conditionals\n",
    "\n",
    "* if / else / elif.\n",
    "* Using **Parentheses ()** with if/else/elif is **Optional**.\n",
    "* **Indentation** is Must in Python - In form of **Tab / Spaces**."
   ]
  },
  {
   "cell_type": "code",
   "execution_count": 1,
   "metadata": {},
   "outputs": [
    {
     "name": "stdout",
     "output_type": "stream",
     "text": [
      "20\n",
      "40\n"
     ]
    }
   ],
   "source": [
    "# Conditionals  - if / else / elif\n",
    "\n",
    "a = 10\n",
    "b = 20\n",
    "c = 20\n",
    "\n",
    "if a>=b and a>=c :\n",
    "    print(a)\n",
    "elif b>=a and b>=c :\n",
    "    print(b)\n",
    "else :\n",
    "    print(c)\n",
    "    \n",
    "    \n",
    "x = 30\n",
    "y = 40\n",
    "z = 35    \n",
    "\n",
    "if x>=y and x>=z :\n",
    "    print(x)\n",
    "elif y>=x and y>=z :\n",
    "    print(y)\n",
    "else :\n",
    "    print(z)\n"
   ]
  },
  {
   "cell_type": "markdown",
   "metadata": {},
   "source": [
    "## Loops\n",
    "\n",
    "* **while** and **for** Loop.\n",
    "* It Can be thought that Curley Braces **{ }** are replaced with Colon **:** and **Indentation** in Python.\n",
    "* **range() function** is used to run **for** Loop.\n",
    "* **range(start, end, step)** → By Default, start=0, step=1.\n",
    "* **Indentation** Should be Done.\n",
    "* Python **Does Not Support** Increment(++) and Decrement(--) Operator."
   ]
  },
  {
   "cell_type": "code",
   "execution_count": 4,
   "metadata": {},
   "outputs": [
    {
     "name": "stdout",
     "output_type": "stream",
     "text": [
      "5\n",
      "1 2 3 4 5 \n",
      "Done\n"
     ]
    }
   ],
   "source": [
    "# While Loop\n",
    "\n",
    "n = int(input())\n",
    "i = 1\n",
    "while i<=n :\n",
    "    print(i, end = \" \")\n",
    "    i = i+1\n",
    "print()     # For New Line\n",
    "print(\"Done\")"
   ]
  },
  {
   "cell_type": "code",
   "execution_count": 8,
   "metadata": {},
   "outputs": [
    {
     "name": "stdout",
     "output_type": "stream",
     "text": [
      "15\n",
      "0 1 2 3 4 5 6 7 8 9 10 11 12 13 14 15 \n",
      "2 3 4 5 6 7 8 9 10 11 12 13 14 15 \n",
      "1 3 5 7 9 11 13 15 "
     ]
    }
   ],
   "source": [
    "# For Loop\n",
    "# range function  --  range(start, end, step)  -- 'end' is basically goes till 'end-1'\n",
    "\n",
    "n = int(input())\n",
    "\n",
    "for i in range(n+1) :        # Only 'end' is given\n",
    "    print(i, end=\" \")\n",
    "print()    # for New Line\n",
    "\n",
    "for i in range(2, n+1) :     # 'start' and 'end' are given\n",
    "    print(i, end=\" \")\n",
    "print()    # for New Line \n",
    "\n",
    "for i in range(1, n+1, 2) :  # 'start', 'end' & 'step' all are given\n",
    "    print(i, end=\" \")"
   ]
  },
  {
   "cell_type": "code",
   "execution_count": 12,
   "metadata": {},
   "outputs": [
    {
     "name": "stdout",
     "output_type": "stream",
     "text": [
      "31\n",
      "Prime\n"
     ]
    }
   ],
   "source": [
    "# Program - Check Prime\n",
    "\n",
    "n = int(input())\n",
    "prime = True\n",
    "for i in range(2, n) :\n",
    "    if (n%i == 0) :\n",
    "        prime = False\n",
    "        break\n",
    "if prime:\n",
    "    print(\"Prime\")\n",
    "else:\n",
    "    print(\"Not Prime\")"
   ]
  },
  {
   "cell_type": "markdown",
   "metadata": {},
   "source": [
    "### Fast Iterations in Strings & Tuples\n",
    "\n",
    "* It is fast just in the sense it is **Easy to Code** NOT in the sense that it is executed fastly."
   ]
  },
  {
   "cell_type": "code",
   "execution_count": 14,
   "metadata": {},
   "outputs": [
    {
     "name": "stdout",
     "output_type": "stream",
     "text": [
      "S a u r a b h \n",
      "1 Malik 2.3 "
     ]
    }
   ],
   "source": [
    "# Fast Iteration\n",
    "\n",
    "# String\n",
    "s = \"Saurabh\"\n",
    "for i in s:\n",
    "    print(i, end=\" \")\n",
    "print()\n",
    "\n",
    "# Tuple\n",
    "t = (1, 'Malik', 2.3)\n",
    "for i in t:\n",
    "    print(i, end=\" \")\n"
   ]
  },
  {
   "cell_type": "markdown",
   "metadata": {},
   "source": [
    "## Functions\n",
    "\n",
    "* In Python, a function is defined using **def** keyword.\n",
    "* Syntax consists **6** Things:  **def** keyword, **Name of Function**, **Arguments**, **Colon (:)**, **Indentation** and **return** keyword.\n",
    "* Adding an **Asterisk (*)** before the parameter name in the function definition → Function will receive a **Tuple of Arguments**. \n",
    "* Adding **Double Asterisks (* *)** before the parameter name in the function definition → Function will receive a **Dictionary of Arguments**. \n"
   ]
  },
  {
   "cell_type": "code",
   "execution_count": 19,
   "metadata": {},
   "outputs": [
    {
     "name": "stdout",
     "output_type": "stream",
     "text": [
      "Sum = 30\n"
     ]
    }
   ],
   "source": [
    "# Function to Add 2 Numbers\n",
    "\n",
    "def sum(a, b):\n",
    "    c = a+b\n",
    "    return c\n",
    "\n",
    "x = 10\n",
    "y = 20\n",
    "z = sum(x, y)    # Function Called\n",
    "print(\"Sum =\", end = \" \")\n",
    "print(z)"
   ]
  },
  {
   "cell_type": "code",
   "execution_count": 21,
   "metadata": {},
   "outputs": [
    {
     "name": "stdout",
     "output_type": "stream",
     "text": [
      "10000\n",
      "100\n"
     ]
    }
   ],
   "source": [
    "# Default Arguments to a Function\n",
    "\n",
    "def power(x, y = 2) :\n",
    "    return x ** y\n",
    "\n",
    "s = 10\n",
    "e = 4\n",
    "\n",
    "print(power(s, e))\n",
    "print(power(s))    # 'e' is not given, so it will take by default 2"
   ]
  },
  {
   "cell_type": "code",
   "execution_count": 29,
   "metadata": {},
   "outputs": [
    {
     "name": "stdout",
     "output_type": "stream",
     "text": [
      "18\n",
      "13\n",
      "8\n",
      "15\n",
      "24\n"
     ]
    }
   ],
   "source": [
    "# All Default Arguments Given\n",
    "\n",
    "def sum(a = 12, b = 1, c = 2):\n",
    "    return a + b + c\n",
    "\n",
    "print(sum(5, 6, 7))\n",
    "print(sum(5, 6))      # Default 'c'\n",
    "print(sum(5))         # Default 'b' and 'c'\n",
    "print(sum())          # Default 'a', 'b' and 'c'\n",
    "print(sum(b = 10))    # Default 'a' and 'c'"
   ]
  },
  {
   "cell_type": "code",
   "execution_count": 32,
   "metadata": {},
   "outputs": [
    {
     "name": "stdout",
     "output_type": "stream",
     "text": [
      "180\n"
     ]
    }
   ],
   "source": [
    "# Variable Number of Inputs to a function\n",
    "# Variable Sized Input & Output\n",
    "\n",
    "def variable_sum(a, b, *more):\n",
    "    ans  = a + b      # Here, a=5 and b=10\n",
    "    for i in more:    # Here, 'more' is a tuple = (15, 20, 25, 30, 35, 40)\n",
    "        ans += i\n",
    "    return ans\n",
    "\n",
    "print(variable_sum(5, 10, 15, 20, 25, 30, 35, 40))"
   ]
  },
  {
   "cell_type": "code",
   "execution_count": 36,
   "metadata": {},
   "outputs": [
    {
     "name": "stdout",
     "output_type": "stream",
     "text": [
      "(15, 5, 50)\n",
      "\n",
      "15\n",
      "5\n",
      "50\n",
      "\n",
      "15\n",
      "5\n",
      "50\n"
     ]
    }
   ],
   "source": [
    "# More than One Return Value\n",
    "\n",
    "def dummy(a, b):\n",
    "    return a+b, a-b, a*b\n",
    "\n",
    "print(dummy(10, 5))  #  'dummy' will return 10+5, 10-5, 10*5 in a tuple\n",
    "print()\n",
    "\n",
    "# If values are Needed Separtely, then follow the following method:\n",
    "sum, diff, mult = dummy(10, 5)\n",
    "print(sum)\n",
    "print(diff)\n",
    "print(mult)\n",
    "print()\n",
    "\n",
    "# Another Method\n",
    "plus = dummy(10, 5)[0]\n",
    "minus = dummy(10, 5)[1]\n",
    "mul = dummy(10, 5)[2]\n",
    "\n",
    "print(plus)\n",
    "print(minus)\n",
    "print(mul)"
   ]
  },
  {
   "cell_type": "code",
   "execution_count": null,
   "metadata": {},
   "outputs": [],
   "source": []
  },
  {
   "cell_type": "code",
   "execution_count": null,
   "metadata": {},
   "outputs": [],
   "source": []
  }
 ],
 "metadata": {
  "kernelspec": {
   "display_name": "Python 3",
   "language": "python",
   "name": "python3"
  },
  "language_info": {
   "codemirror_mode": {
    "name": "ipython",
    "version": 3
   },
   "file_extension": ".py",
   "mimetype": "text/x-python",
   "name": "python",
   "nbconvert_exporter": "python",
   "pygments_lexer": "ipython3",
   "version": "3.8.3"
  }
 },
 "nbformat": 4,
 "nbformat_minor": 4
}
